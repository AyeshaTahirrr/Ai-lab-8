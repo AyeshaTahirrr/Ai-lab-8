{
 "cells": [
  {
   "cell_type": "code",
   "execution_count": 7,
   "id": "2fd55a34-5b22-4f88-9bb0-4543f63a94bd",
   "metadata": {},
   "outputs": [
    {
     "name": "stdout",
     "output_type": "stream",
     "text": [
      "\n",
      "Cosine Similarity Matrix:\n",
      "Booking Source    Online    Phone   Walk-in\n",
      "Booking Source                             \n",
      "Online          1.000000  0.57735  0.816497\n",
      "Phone           0.577350  1.00000  0.000000\n",
      "Walk-in         0.816497  0.00000  1.000000\n",
      "\n",
      "Recommended Booking Sources for Summer:\n",
      "Online: Similarity Score (1.58)\n",
      "Phone: Similarity Score (1.58)\n"
     ]
    }
   ],
   "source": [
    "import pandas as pd\n",
    "from sklearn.metrics.pairwise import cosine_similarity\n",
    "\n",
    "# Step 1: Create the dataset as a dictionary\n",
    "data = {\n",
    "    'Season': ['Summer', 'Winter', 'Fall', 'Spring', 'Winter', 'Summer', 'Fall', 'Spring', 'Summer', 'Winter'],\n",
    "    'Booking Source': ['Online', 'Phone', 'Walk-in', 'Online', 'Walk-in', 'Phone', 'Online', 'Walk-in', 'Phone', 'Online'],\n",
    "    'Booked': ['Yes', 'No', 'Yes', 'Yes', 'No', 'No', 'Yes', 'Yes', 'Yes', 'No']\n",
    "}\n",
    "\n",
    "# Step 2: Convert the dictionary into a pandas DataFrame\n",
    "df = pd.DataFrame(data)\n",
    "\n",
    "# Step 3: Create the User-Item matrix (binary ratings)\n",
    "user_item_matrix = pd.pivot_table(df, index='Season', columns='Booking Source', values='Booked', \n",
    "                                  aggfunc=lambda x: 1 if 'Yes' in x.values else 0, fill_value=0)\n",
    "\n",
    "# The User-Item Matrix will not be printed in the output\n",
    "# print(\"User-Item Matrix:\")\n",
    "# print(user_item_matrix)\n",
    "\n",
    "# Step 4: Calculate Cosine Similarity between Booking Sources\n",
    "similarity_matrix = cosine_similarity(user_item_matrix.T)\n",
    "\n",
    "# Convert the similarity matrix to a DataFrame for better readability\n",
    "similarity_df = pd.DataFrame(similarity_matrix, index=user_item_matrix.columns, columns=user_item_matrix.columns)\n",
    "\n",
    "# Print the similarity matrix\n",
    "print(\"\\nCosine Similarity Matrix:\")\n",
    "print(similarity_df)\n",
    "\n",
    "# Step 5: Function to recommend booking sources based on cosine similarity\n",
    "def recommend_booking_sources(user, similarity_matrix, user_item_matrix, top_n=2):\n",
    "    # Get the booking sources the user has already booked\n",
    "    user_ratings = user_item_matrix.loc[user]\n",
    "    \n",
    "    # Get the similarities between booking sources the user has already booked\n",
    "    similar_scores = similarity_matrix[user_ratings == 1].sum(axis=0)\n",
    "    \n",
    "    # Sort the scores and get the top n recommended booking sources\n",
    "    recommendations = similar_scores.sort_values(ascending=False).head(top_n)\n",
    "    \n",
    "    return recommendations\n",
    "\n",
    "# Step 6: Example - Recommend Booking Sources for 'Summer'\n",
    "user = 'Summer'\n",
    "recommended_sources = recommend_booking_sources(user, similarity_df, user_item_matrix)\n",
    "\n",
    "# Display the recommendations\n",
    "print(f\"\\nRecommended Booking Sources for {user}:\")\n",
    "for source, score in recommended_sources.items():\n",
    "    print(f\"{source}: Similarity Score ({score:.2f})\")\n"
   ]
  },
  {
   "cell_type": "code",
   "execution_count": null,
   "id": "c5b7b1c8-7b7f-4c36-888a-5772dd49da26",
   "metadata": {},
   "outputs": [],
   "source": []
  }
 ],
 "metadata": {
  "kernelspec": {
   "display_name": "Python 3 (ipykernel)",
   "language": "python",
   "name": "python3"
  },
  "language_info": {
   "codemirror_mode": {
    "name": "ipython",
    "version": 3
   },
   "file_extension": ".py",
   "mimetype": "text/x-python",
   "name": "python",
   "nbconvert_exporter": "python",
   "pygments_lexer": "ipython3",
   "version": "3.12.7"
  }
 },
 "nbformat": 4,
 "nbformat_minor": 5
}
