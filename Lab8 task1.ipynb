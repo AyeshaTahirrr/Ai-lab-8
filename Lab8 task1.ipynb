{
 "cells": [
  {
   "cell_type": "code",
   "execution_count": 8,
   "id": "114ddb46-2f23-471d-9790-a0f8e53bcae2",
   "metadata": {},
   "outputs": [
    {
     "name": "stdout",
     "output_type": "stream",
     "text": [
      "Computing the cosine similarity matrix...\n",
      "Done computing similarity matrix.\n",
      "Recommended movies for user E:\n",
      "Movie 2: Predicted Rating 4.15\n",
      "Movie 1: Predicted Rating 3.00\n"
     ]
    }
   ],
   "source": [
    "import pandas as pd\n",
    "from surprise import Dataset, Reader\n",
    "from surprise import KNNWithMeans\n",
    "\n",
    "# Step 1: Create the ratings dictionary\n",
    "ratings_dict = {\n",
    "    \"item\": [1, 2, 1, 2, 1, 2, 1, 2, 1],\n",
    "    \"user\": ['A', 'A', 'B', 'B', 'C', 'C', 'D', 'D', 'E'],\n",
    "    \"rating\": [1, 2, 2, 4, 2.5, 4, 4.5, 5, 3],\n",
    "}\n",
    "\n",
    "# Step 2: Convert to DataFrame\n",
    "df = pd.DataFrame(ratings_dict)\n",
    "\n",
    "# Step 3: Create the Reader and load data\n",
    "reader = Reader(rating_scale=(1, 5))\n",
    "data = Dataset.load_from_df(df[[\"user\", \"item\", \"rating\"]], reader)\n",
    "\n",
    "# Step 4: Set up the similarity options for KNN\n",
    "sim_options = {\n",
    "    \"name\": \"cosine\",  # Use cosine similarity\n",
    "    \"user_based\": False,  # Item-based collaborative filtering\n",
    "}\n",
    "\n",
    "# Step 5: Use KNNWithMeans algorithm\n",
    "algo = KNNWithMeans(sim_options=sim_options)\n",
    "\n",
    "# Step 6: Build the training set and train the algorithm\n",
    "trainingSet = data.build_full_trainset()\n",
    "algo.fit(trainingSet)\n",
    "\n",
    "# Step 7: Recommendation function\n",
    "def recommend_movies(user_id, all_items, algo):\n",
    "    recommendations = []\n",
    "    for item_id in all_items:\n",
    "        prediction = algo.predict(user_id, item_id)\n",
    "        recommendations.append((item_id, prediction.est))\n",
    "    \n",
    "    # Sort recommendations by predicted rating in descending order\n",
    "    recommendations.sort(key=lambda x: x[1], reverse=True)\n",
    "    \n",
    "    return recommendations\n",
    "\n",
    "# Step 8: Get the list of all items\n",
    "all_items = df[\"item\"].unique()\n",
    "\n",
    "# Step 9: Get recommendations for a specific user (e.g., user 'E')\n",
    "user_id = 'E'\n",
    "recommendations = recommend_movies(user_id, all_items, algo)\n",
    "\n",
    "# Step 10: Display the recommendations\n",
    "print(f\"Recommended movies for user {user_id}:\")\n",
    "for item_id, predicted_rating in recommendations:\n",
    "    print(f\"Movie {item_id}: Predicted Rating {predicted_rating:.2f}\")\n"
   ]
  },
  {
   "cell_type": "code",
   "execution_count": null,
   "id": "77fb25ce-16fc-4e23-abc0-b999806ea4e8",
   "metadata": {},
   "outputs": [],
   "source": []
  }
 ],
 "metadata": {
  "kernelspec": {
   "display_name": "Python 3 (ipykernel)",
   "language": "python",
   "name": "python3"
  },
  "language_info": {
   "codemirror_mode": {
    "name": "ipython",
    "version": 3
   },
   "file_extension": ".py",
   "mimetype": "text/x-python",
   "name": "python",
   "nbconvert_exporter": "python",
   "pygments_lexer": "ipython3",
   "version": "3.12.7"
  }
 },
 "nbformat": 4,
 "nbformat_minor": 5
}
